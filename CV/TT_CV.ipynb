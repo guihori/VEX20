{
 "cells": [
  {
   "cell_type": "code",
   "execution_count": 1,
   "metadata": {},
   "outputs": [
    {
     "name": "stdout",
     "output_type": "stream",
     "text": [
      "Populating the interactive namespace from numpy and matplotlib\n",
      "4.1.1\n"
     ]
    }
   ],
   "source": [
    "import copy as pyCopy\n",
    "%pylab inline\n",
    "import cv2 as cv2\n",
    "print(cv2.__version__)"
   ]
  },
  {
   "cell_type": "code",
   "execution_count": 9,
   "metadata": {},
   "outputs": [],
   "source": [
    "def cubeDetector(img, h_thresh, s_thresh, v_thresh, drawnImg = None, c_color = (255,255,255)):\n",
    "    hsv = cv2.cvtColor(img, cv2.COLOR_BGR2HSV)\n",
    "    \n",
    "    #cv2.imwrite(\"flowchart_stuff/hsv.jpg\", hsv)\n",
    "    \n",
    "    channels = []\n",
    "    channels = cv2.split(hsv, channels)\n",
    "    # 0 = H, 1 = S, 2 = V\n",
    "    \n",
    "    cv2.imshow(\"H\", cv2.resize(channels[0], (480, 640)))\n",
    "    cv2.imshow(\"S\", cv2.resize(channels[1], (480, 640)))\n",
    "    cv2.imshow(\"V\", cv2.resize(channels[2], (480, 640)))\n",
    "    \n",
    "    #cv2.imwrite(\"flowchart_stuff/goldPreS.jpg\", channels[1])\n",
    "    \n",
    "    channels[0] = cv2.inRange(channels[0], h_thresh[0], h_thresh[1], channels[0]);\n",
    "    channels[1] = cv2.inRange(channels[1], s_thresh[0], s_thresh[1], channels[1]);\n",
    "    channels[2] = cv2.inRange(channels[2], v_thresh[0], v_thresh[1], channels[2]);\n",
    "    \n",
    "    #cv2.imwrite(\"flowchart_stuff/goldS.jpg\", channels[1])\n",
    "    \n",
    "    #cv2.imshow(\"goldH\", cv2.resize(channels[0], (320, 480)))\n",
    "    #cv2.imshow(\"goldS\", cv2.resize(channels[1], (320, 480)))\n",
    "    #cv2.imshow(\"goldV\", cv2.resize(channels[2], (320, 480)))\n",
    "\n",
    "    finalMap = cv2.bitwise_and(channels[0], channels[1])\n",
    "    finalMap = cv2.bitwise_and(finalMap, channels[2])\n",
    "    \n",
    "    cv2.imshow(\"combined\", cv2.resize(finalMap, (480, 640)))\n",
    "    \n",
    "    #cv2.imwrite(\"flowchart_stuff/goldBinary.jpg\", finalMap)\n",
    "\n",
    "    #floodFillMap = pyCopy.deepcopy(finalMap)\n",
    "\n",
    "    #cv2.floodFill(floodFillMap,None,(0,0),255)\n",
    "\n",
    "    #floodFillMap = cv2.bitwise_not(floodFillMap)\n",
    "\n",
    "    #finalMap = cv2.bitwise_or(finalMap, floodFillMap)\n",
    "\n",
    "    #finalMap = cv2.GaussianBlur( finalMap, (9, 9), 2, 2)\n",
    "    \n",
    "    #cv2.imwrite(\"flowchart_stuff/goldBinaryBlur.jpg\", finalMap)\n",
    "    \n",
    "    #cv2.imshow(\"cubeBinaryMap\", cv2.resize(finalMap, (480, 640)))\n",
    "    \n",
    "    finalMapContours = None;\n",
    "    finalMapContours, h = cv2.findContours(finalMap, cv2.RETR_TREE,cv2.CHAIN_APPROX_SIMPLE, finalMapContours)\n",
    "    \n",
    "    if drawnImg is not None:\n",
    "        retImg = pyCopy.deepcopy(drawnImg)\n",
    "    else:\n",
    "        retImg = pyCopy.deepcopy(img)\n",
    "    \n",
    "    if finalMapContours is not None:\n",
    "        polygons = [];\n",
    "        for contour in finalMapContours[1]:\n",
    "            if cv2.contourArea(contour) > 100000:\n",
    "                polygons.append(cv2.approxPolyDP(contour, .05*cv2.arcLength(contour, True), True))\n",
    "                M = cv2.moments(contour)\n",
    "                cX = int(M[\"m10\"] / M[\"m00\"])\n",
    "                cY = int(M[\"m01\"] / M[\"m00\"])\n",
    "                 \n",
    "                # draw the contour and center of the shape on the image\n",
    "                cv2.circle(retImg, (cX, cY), 50,  (255,255,255) , -1)\n",
    "                \n",
    "        cv2.drawContours(retImg, polygons, -1, c_color, 20)\n",
    "    \n",
    "    return retImg"
   ]
  },
  {
   "cell_type": "code",
   "execution_count": 10,
   "metadata": {},
   "outputs": [],
   "source": [
    "frame = cv2.imread(\"blocks1.jpg\")\n",
    "fs = cv2.resize(frame, (540,540))\n",
    "orange_thresh = ((0, 30), (100, 256), (190, 256))\n",
    "frame = cubeDetector(frame, orange_thresh[0], orange_thresh[1], orange_thresh[2], c_color = (0,0, 255))\n",
    "purple_thresh = ((130, 170), (30, 265), (65, 256))\n",
    "#frame = cubeDetector(frame, purple_thresh[0], purple_thresh[1], purple_thresh[2], c_color = (255,0, 0))\n",
    "green_thresh = ((50, 90), (70, 256), (60, 256))\n",
    "#frame = cubeDetector(frame, green_thresh[0], green_thresh[1], green_thresh[2], c_color = (0, 255, 0))\n",
    "\n",
    "cv2.imshow(\"final\", cv2.resize(frame, (480, 640)))\n",
    "while(cv2.waitKey(0) != ord('q')):\n",
    "    pass\n",
    "cv2.destroyAllWindows()"
   ]
  },
  {
   "cell_type": "code",
   "execution_count": 8,
   "metadata": {},
   "outputs": [
    {
     "ename": "error",
     "evalue": "/home/travis/miniconda/conda-bld/conda_1486587069159/work/opencv-3.1.0/modules/python/src2/cv2.cpp:163: error: (-215) The data should normally be NULL! in function allocate\n",
     "output_type": "error",
     "traceback": [
      "\u001b[0;31m---------------------------------------------------------------------------\u001b[0m",
      "\u001b[0;31merror\u001b[0m                                     Traceback (most recent call last)",
      "\u001b[0;32m<ipython-input-8-d6bfb377efcf>\u001b[0m in \u001b[0;36m<module>\u001b[0;34m()\u001b[0m\n\u001b[1;32m     17\u001b[0m \u001b[0mflann\u001b[0m \u001b[0;34m=\u001b[0m \u001b[0mcv2\u001b[0m\u001b[0;34m.\u001b[0m\u001b[0mFlannBasedMatcher\u001b[0m\u001b[0;34m(\u001b[0m\u001b[0mindex_params\u001b[0m\u001b[0;34m,\u001b[0m \u001b[0msearch_params\u001b[0m\u001b[0;34m)\u001b[0m\u001b[0;34m\u001b[0m\u001b[0m\n\u001b[1;32m     18\u001b[0m \u001b[0;34m\u001b[0m\u001b[0m\n\u001b[0;32m---> 19\u001b[0;31m \u001b[0mmatches\u001b[0m \u001b[0;34m=\u001b[0m \u001b[0mflann\u001b[0m\u001b[0;34m.\u001b[0m\u001b[0mknnMatch\u001b[0m\u001b[0;34m(\u001b[0m\u001b[0mdes1\u001b[0m\u001b[0;34m,\u001b[0m\u001b[0mdes2\u001b[0m\u001b[0;34m,\u001b[0m\u001b[0mk\u001b[0m\u001b[0;34m=\u001b[0m\u001b[0;36m2\u001b[0m\u001b[0;34m)\u001b[0m\u001b[0;34m\u001b[0m\u001b[0m\n\u001b[0m\u001b[1;32m     20\u001b[0m \u001b[0;34m\u001b[0m\u001b[0m\n\u001b[1;32m     21\u001b[0m \u001b[0;31m# store all the good matches as per Lowe's ratio test.\u001b[0m\u001b[0;34m\u001b[0m\u001b[0;34m\u001b[0m\u001b[0m\n",
      "\u001b[0;31merror\u001b[0m: /home/travis/miniconda/conda-bld/conda_1486587069159/work/opencv-3.1.0/modules/python/src2/cv2.cpp:163: error: (-215) The data should normally be NULL! in function allocate\n"
     ]
    }
   ],
   "source": []
  },
  {
   "cell_type": "code",
   "execution_count": null,
   "metadata": {},
   "outputs": [],
   "source": []
  },
  {
   "cell_type": "code",
   "execution_count": 108,
   "metadata": {},
   "outputs": [],
   "source": [
    "cap = cv2.VideoCapture(0)\n",
    "#for i in range (1,2):\n",
    "while True:\n",
    "    ret, frame = cap.read()\n",
    "    \n",
    "    orange_thresh = ((0, 30), (100, 256), (190, 256))\n",
    "    ret_img = cubeDetector(frame, orange_thresh[0], orange_thresh[1], orange_thresh[2], c_color = (0,0, 255))\n",
    "    purple_thresh = ((130, 170), (30, 265), (65, 256))\n",
    "    ret_img = cubeDetector(frame, purplqe_thresh[0], purple_thresh[1], purple_thresh[2], c_color = (255,0, 0))\n",
    "    green_thresh = ((50, 90), (70, 256), (60, 256))\n",
    "    ret_img = cubeDetector(ret_img, green_thresh[0], green_thresh[1], green_thresh[2], c_color = (0, 255, 0))\n",
    "    \n",
    "    #whiteMinerals = detectWhiteMineral(pyCopy.deepcopy(frame))\n",
    "    #cv2.imshow(\"Img\", cubeDetector(frame, drawnImg = pyCopy.deepcopy(whiteMinerals)))\n",
    "    \n",
    "    cv2.imshow(\"img\", cv2.resize(ret_img, (480, 640)))\n",
    "\n",
    "    key = cv2.waitKey(0) & 0xFF\n",
    " \n",
    "    #if the 'q' key is pressed, stop the loop\n",
    "    if key == ord(\"q\"):\n",
    "        break\n",
    "\n",
    "cap.release()\n",
    "cv2.destroyAllWindows()"
   ]
  }
 ],
 "metadata": {
  "kernelspec": {
   "display_name": "Python 3",
   "language": "python",
   "name": "python3"
  },
  "language_info": {
   "codemirror_mode": {
    "name": "ipython",
    "version": 3
   },
   "file_extension": ".py",
   "mimetype": "text/x-python",
   "name": "python",
   "nbconvert_exporter": "python",
   "pygments_lexer": "ipython3",
   "version": "3.6.5"
  }
 },
 "nbformat": 4,
 "nbformat_minor": 2
}
